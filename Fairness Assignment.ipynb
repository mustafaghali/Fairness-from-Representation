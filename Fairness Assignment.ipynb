{
 "cells": [
  {
   "cell_type": "code",
   "execution_count": null,
   "metadata": {},
   "outputs": [],
   "source": [
    "import pandas as pd\n",
    "import numpy as np\n",
    "from sklearn import preprocessing \n",
    "import torch \n",
    "from torch import nn\n",
    "from torch.nn import functional as F\n",
    "from sklearn.metrics import accuracy_score\n",
    "import matplotlib.pyplot as plt"
   ]
  },
  {
   "cell_type": "markdown",
   "metadata": {},
   "source": [
    "## Question 2.0: Data preparation "
   ]
  },
  {
   "cell_type": "code",
   "execution_count": 2,
   "metadata": {},
   "outputs": [],
   "source": [
    "# load train and test data \n",
    "data_train = np.load(\"adult/adult_train.npz\")\n",
    "train_x = data_train['x']\n",
    "train_y = data_train['y']\n",
    "data_test = np.load(\"adult/adult_test.npz\")\n",
    "test_x = data_test['x']\n",
    "test_y = data_test['y']"
   ]
  },
  {
   "cell_type": "code",
   "execution_count": 3,
   "metadata": {},
   "outputs": [],
   "source": [
    "# load data headers\n",
    "headers = pd.read_csv(\"adult/adult_headers.txt\",header=None)\n",
    "headers = np.array(headers).flatten()"
   ]
  },
  {
   "cell_type": "code",
   "execution_count": 4,
   "metadata": {},
   "outputs": [],
   "source": [
    "# convert training data array into pandas dataframe \n",
    "train_data_pd = pd.DataFrame(data = np.concatenate((train_x, train_y), axis=1), columns = headers).drop(['sex_Female'], axis=1)\n",
    "\n",
    "# normalize training data of males recoreds \n",
    "train_data_pd_males = train_data_pd[train_data_pd['sex_Male'] == 1]\n",
    "normalized_males = ((train_data_pd_males-train_data_pd_males.mean())/train_data_pd_males.std()).fillna(value=0)\n",
    "train_males_x = torch.from_numpy(normalized_males.drop(['income'], axis=1).values).float()\n",
    "train_males_y = torch.from_numpy(train_data_pd_males['income'].values).float().view(-1,1)\n",
    "\n",
    "# normalize training data of females recoreds \n",
    "train_data_pd_females = train_data_pd[train_data_pd['sex_Male'] == 0]\n",
    "normalized_females=((train_data_pd_females-train_data_pd_females.mean())/train_data_pd_females.std()).fillna(value=0)\n",
    "train_females_x = torch.from_numpy(normalized_females.drop(['income'], axis=1).values).float()\n",
    "train_females_y = torch.from_numpy(train_data_pd_females['income'].values).float().view(-1,1)\n",
    "\n",
    "# concatendate the two records to get the full training set (inputs and targets)\n",
    "train_x_cat = torch.cat((train_males_x, train_females_x), dim = 0)\n",
    "train_y_cat = torch.cat((train_males_y, train_females_y), dim = 0)\n",
    "\n",
    "# shuffle the concatenated training data \n",
    "index = torch.randperm(train_x_cat.shape[0])\n",
    "train_x_cat = train_x_cat[index,:]  \n",
    "train_y_cat = train_y_cat[index,:]"
   ]
  },
  {
   "cell_type": "code",
   "execution_count": 5,
   "metadata": {},
   "outputs": [],
   "source": [
    "# convert test data array into pandas dataframe \n",
    "test_data_pd = pd.DataFrame(data = np.concatenate((test_x, test_y), axis=1), columns = headers).drop(['sex_Female'], axis=1)\n",
    "\n",
    "\n",
    "# normalize test data of males recoreds \n",
    "test_data_pd_males = test_data_pd[test_data_pd['sex_Male'] == 1]\n",
    "normalized_males_test=((test_data_pd_males-train_data_pd.mean())/train_data_pd.std()).fillna(value=0)\n",
    "test_males_x = torch.from_numpy(normalized_males_test.drop(['income'], axis=1).values).float()\n",
    "test_males_y = torch.from_numpy(test_data_pd_males['income'].values).float().view(-1,1)\n",
    "\n",
    "# normalize test data of females recoreds \n",
    "test_data_pd_females = test_data_pd[test_data_pd['sex_Male'] == 0]\n",
    "normalized_females_test=((test_data_pd_females-train_data_pd.mean())/train_data_pd.std()).fillna(value=0)\n",
    "test_females_x = torch.from_numpy(normalized_females_test.drop(['income'], axis=1).values).float()\n",
    "test_females_y = torch.from_numpy(test_data_pd_females['income'].values).float().view(-1,1)\n",
    "\n",
    "# concatendate the two records to get the full test set (inputs and targets)\n",
    "test_x_cat = torch.cat((test_males_x, test_females_x), dim = 0)\n",
    "test_y_cat = torch.cat((test_males_y, test_females_y), dim = 0)\n",
    "\n",
    "# shuffle the concatenated test data \n",
    "index = torch.randperm(test_x_cat.shape[0])\n",
    "test_x_cat = test_x_cat[index,:]  \n",
    "test_y_cat = test_y_cat[index,:]"
   ]
  },
  {
   "cell_type": "markdown",
   "metadata": {},
   "source": [
    "## Question 2.1.a: predicting income using normalized data "
   ]
  },
  {
   "cell_type": "code",
   "execution_count": 10,
   "metadata": {},
   "outputs": [],
   "source": [
    "# define generic binary classifer NN with two hidden layers\n",
    "class model(nn.Module):\n",
    "    def __init__(self,input_size,n_hidden):\n",
    "        super(model, self).__init__()\n",
    "        self.h1 = nn.Sequential(\n",
    "        nn.Linear(input_size, n_hidden), # layer 1 \n",
    "        nn.BatchNorm1d(n_hidden),\n",
    "        nn.ReLU()\n",
    "        ) \n",
    "        \n",
    "        self.h2 = nn.Sequential(         \n",
    "        nn.Linear(n_hidden, n_hidden//2), # layer 2\n",
    "        nn.BatchNorm1d(n_hidden//2),\n",
    "        nn.ReLU(),\n",
    "        )\n",
    "    \n",
    "        self.o = nn.Sequential(  \n",
    "        nn.Linear(n_hidden//2,1)\n",
    "        )\n",
    "        \n",
    "    def forward(self, x):\n",
    "        x = self.h1(x)\n",
    "        x = self.h2(x)\n",
    "        x = self.o(x)\n",
    "        return x"
   ]
  },
  {
   "cell_type": "code",
   "execution_count": null,
   "metadata": {},
   "outputs": [],
   "source": [
    "#define traing generic training function \n",
    "def train(epoch, train_model, input_data, targets, train_optimizer):\n",
    "    train_model.train()\n",
    "    for data,target in zip(input_data.split(batch_size),targets.split(batch_size)):\n",
    "        output = train_model(data)\n",
    "        loss = F.binary_cross_entropy_with_logits(output,target)\n",
    "        train_optimizer.zero_grad()\n",
    "        loss.backward()\n",
    "        train_optimizer.step()\n",
    "    if(epoch%5 == 0):\n",
    "        train_losses.append(loss.item())\n",
    "        print(\"[EPOCH]: %i, [LOSS]: %.6f\" % (epoch, loss.item()))"
   ]
  },
  {
   "cell_type": "code",
   "execution_count": 6,
   "metadata": {},
   "outputs": [],
   "source": [
    "#define generic test function that return the following metrics \n",
    "# accuracy \n",
    "# accuracy per males data\n",
    "# accuracy per females data \n",
    "# rewieghted accuracy \n",
    "# Demographic parity \n",
    "# avg no of males with preditction of 1\n",
    "# avg no of females with predictions of 1\n",
    "\n",
    "def test(test_model, test_x, test_y, test_m_x, test_m_y, test_f_x, test_f_y):\n",
    "    with torch.no_grad():\n",
    "        test_model.eval()\n",
    "        accuracy = accuracy_score(test_y.numpy(), ((test_model(test_x)>0).int()).numpy() )\n",
    "        accuracy_males = accuracy_score(test_m_y.numpy(), ((test_model(test_m_x)>0).int()).numpy() )\n",
    "        accuracy_females = accuracy_score(test_f_y.numpy(), ((test_model(test_f_x)>0).int()).numpy() )\n",
    "        R = 0.5 * (accuracy_males + accuracy_females) \n",
    "        no_males = ((test_model(test_m_x)>0).int()).numpy().sum()\n",
    "        no_females = ((test_model(test_f_x)>0).int()).numpy().sum()\n",
    "        no_males_avg = no_males/test_m_x.shape[0]\n",
    "        no_females_avg = no_females/test_f_x.shape[0]\n",
    "        DP = np.abs((no_males_avg - no_females_avg))\n",
    "    return accuracy, accuracy_males, accuracy_females, R, DP, no_males_avg, no_females_avg"
   ]
  },
  {
   "cell_type": "code",
   "execution_count": null,
   "metadata": {},
   "outputs": [],
   "source": [
    "# set the training and model parameters for the g_classifer \n",
    "batch_size = 4048\n",
    "input_size = 112\n",
    "n_hidden = 100\n",
    "lr = 1e-2\n",
    "g_classifer = model(input_size,n_hidden)\n",
    "g_optimizer = torch.optim.Adam(g_classifer.parameters(), lr=lr)\n",
    "train_losses = []\n",
    "epoch = 0\n",
    "num_of_epochs = 100"
   ]
  },
  {
   "cell_type": "code",
   "execution_count": null,
   "metadata": {},
   "outputs": [],
   "source": [
    "for epoch in range(num_of_epochs):\n",
    "    train(epoch, g_classifer,train_x_cat, train_y_cat, g_optimizer)"
   ]
  },
  {
   "cell_type": "code",
   "execution_count": null,
   "metadata": {},
   "outputs": [],
   "source": [
    "#get the metrics of the accuracy and DP\n",
    "accuracy, accuracy_males, accuracy_females, r, dp, no_males_avg, no_females_avg = test(g_classifer, test_x_cat, test_y_cat,test_males_x, test_males_y, test_females_x, test_females_y )\n",
    "print('accuracy = {0}, no_females_avg = {1}, no_males_avg = {2}'.format(accuracy,no_females_avg , no_males_avg))\n",
    "print('reweighted accuracy', r)\n",
    "print('demographic parity (DP)', dp)\n",
    "print('accuracy_males = {0}, accuracy_females = {1}'.format(accuracy_males,accuracy_females))"
   ]
  },
  {
   "cell_type": "markdown",
   "metadata": {},
   "source": [
    "### Question 2.1.b predicting gender using normalized data"
   ]
  },
  {
   "cell_type": "code",
   "execution_count": null,
   "metadata": {},
   "outputs": [],
   "source": [
    "#prepare training data \n",
    "train_x_males_2 = torch.from_numpy(normalized_males.drop(['sex_Male', 'income'], axis=1).values).float()\n",
    "train_y_males_2 = torch.from_numpy(train_data_pd_males['sex_Male'].values).float().view(-1,1)\n",
    "train_x_females_2 = torch.from_numpy(normalized_females.drop(['sex_Male', 'income'], axis=1).values).float()\n",
    "train_y_females_2 = torch.from_numpy(train_data_pd_females['sex_Male'].values).float().view(-1,1)\n",
    "\n",
    "train_x_cat_2 = torch.cat((train_x_males_2, train_x_females_2), dim = 0)\n",
    "train_y_cat_2 = torch.cat((train_y_males_2, train_y_females_2), dim = 0)\n",
    "index = torch.randperm(train_x_cat_2.shape[0])\n",
    "train_x_cat_2 = train_x_cat_2[index,:]  \n",
    "train_y_cat_2 = train_y_cat_2[index,:]"
   ]
  },
  {
   "cell_type": "code",
   "execution_count": null,
   "metadata": {},
   "outputs": [],
   "source": [
    "#prepare test data \n",
    "test_males_x_2 = torch.from_numpy(normalized_males_test.drop(['sex_Male','income'], axis=1).values).float()\n",
    "test_males_y_2 = torch.from_numpy(test_data_pd_males['sex_Male'].values).float().view(-1,1)\n",
    "test_females_x_2 = torch.from_numpy(normalized_females_test.drop(['sex_Male', 'income'], axis=1).values).float()\n",
    "test_females_y_2 = torch.from_numpy(test_data_pd_females['sex_Male'].values).float().view(-1,1)\n",
    "\n",
    "test_x_cat_2 = torch.cat((test_males_x_2, test_females_x_2), dim = 0)\n",
    "test_y_cat_2 = torch.cat((test_males_y_2, test_females_y_2), dim = 0)\n",
    "#shuffle data\n",
    "index = torch.randperm(test_x_cat_2.shape[0])\n",
    "test_x_cat_2 = test_x_cat_2[index,:]  \n",
    "test_y_cat_2 = test_y_cat_2[index,:]"
   ]
  },
  {
   "cell_type": "code",
   "execution_count": null,
   "metadata": {},
   "outputs": [],
   "source": [
    "h_classifer = model(111,n_hidden)\n",
    "h_optimizer = torch.optim.Adam(h_classifer.parameters(), lr=lr)\n",
    "train_losses = []\n",
    "epoch = 0\n",
    "num_of_epochs = 30"
   ]
  },
  {
   "cell_type": "code",
   "execution_count": null,
   "metadata": {},
   "outputs": [],
   "source": [
    "for epoch in range(num_of_epochs):\n",
    "    train(epoch, h_classifer,train_x_cat_2, train_y_cat_2, h_optimizer)"
   ]
  },
  {
   "cell_type": "code",
   "execution_count": null,
   "metadata": {},
   "outputs": [],
   "source": [
    "accuracy, accuracy_males, accuracy_females, r, dp, no_males_avg, no_females_avg = test(h_classifer, test_x_cat_2, test_y_cat_2, test_males_x_2, test_males_y_2, test_females_x_2, test_females_y_2)\n",
    "print('accuracy = {0}, no_females_avg = {1}, no_males_avg = {2}'.format(accuracy,no_females_avg , no_males_avg))\n",
    "print('reweighted accuracy', r)\n",
    "print('demographic parity (DP)', dp)\n",
    "print('accuracy_males = {0}, accuracy_females = {1}'.format(accuracy_males,accuracy_females))"
   ]
  },
  {
   "cell_type": "markdown",
   "metadata": {},
   "source": [
    "### Question 2.2.a predicting income using MMD requalrized model"
   ]
  },
  {
   "cell_type": "code",
   "execution_count": 7,
   "metadata": {},
   "outputs": [],
   "source": [
    "#prepare training data \n",
    "train_data_pd_x_3 = ((train_data_pd - train_data_pd.mean())/train_data_pd.std()).fillna(value =0)\n",
    "train_data_y_3 =  torch.from_numpy(train_data_pd['income'].values).float().view(-1,1)   \n",
    "\n",
    "train_males_x_3 = torch.from_numpy(train_data_pd_males.drop(['income'], axis=1).values).float()\n",
    "train_males_y_3 = torch.from_numpy(train_data_pd_males['income'].values).float().view(-1,1)\n",
    "train_females_x_3 = torch.from_numpy(train_data_pd_females.drop(['income'], axis=1).values).float()\n",
    "train_females_y_3 = torch.from_numpy(train_data_pd_females['income'].values).float().view(-1,1)\n",
    "\n",
    "train_data_x_3  = torch.from_numpy(train_data_pd.drop(['income'], axis=1).values).float()\n",
    "train_data_y_3 =  torch.from_numpy(train_data_pd['income'].values).float().view(-1,1)"
   ]
  },
  {
   "cell_type": "code",
   "execution_count": 8,
   "metadata": {},
   "outputs": [],
   "source": [
    "#prepare test data \n",
    "test_males_x_3 = torch.from_numpy(test_data_pd_males.drop(['income'], axis=1).values).float()\n",
    "test_males_y_3 = torch.from_numpy(test_data_pd_males['income'].values).float().view(-1,1)\n",
    "test_females_x_3 = torch.from_numpy(test_data_pd_females.drop(['income'], axis=1).values).float()\n",
    "test_females_y_3 = torch.from_numpy(test_data_pd_females['income'].values).float().view(-1,1)\n",
    "\n",
    "test_data_x_3  = torch.from_numpy(test_data_pd.drop(['income'], axis=1).values).float()\n",
    "test_data_y_3 =  torch.from_numpy(test_data_pd['income'].values).float().view(-1,1)"
   ]
  },
  {
   "cell_type": "code",
   "execution_count": 9,
   "metadata": {},
   "outputs": [],
   "source": [
    "# define training function that uses mmd loss \n",
    "from mmd import MMD_torch\n",
    "def train_mmd(epoch, train_model, train_in, train_t, train_optimizer, alpha):\n",
    "    train_model.train()\n",
    "    for data,target in zip(train_in.split(batch_size),train_t.split(batch_size)):\n",
    "        output = train_model(data)\n",
    "        \n",
    "        train_model.eval()\n",
    "        representation = train_model.h1(data)\n",
    "        z = train_model.h2(representation)\n",
    "        train_model.train()\n",
    "        \n",
    "        a = data[:,66]\n",
    "        mmd_loss = MMD_torch(z, a)\n",
    "        bce_loss = F.binary_cross_entropy_with_logits(output,target) \n",
    "        loss =  bce_loss + alpha *mmd_loss\n",
    "        train_optimizer.zero_grad()\n",
    "        loss.backward()\n",
    "        train_optimizer.step()\n",
    "    if(epoch%5 == 0):\n",
    "        train_losses.append(loss.item())\n",
    "        print(\"[EPOCH]: %i, [LOSS]: %.6f,  [BCE loss]: %.6f ,[MMD loss]: %.6f\" % (epoch, loss.item(), bce_loss , mmd_loss))"
   ]
  },
  {
   "cell_type": "code",
   "execution_count": null,
   "metadata": {},
   "outputs": [],
   "source": [
    "# set the training and model parameters \n",
    "batch_size = 512\n",
    "g_classifier_mmd = model(input_size,n_hidden)\n",
    "g_optimizer_mmd = torch.optim.Adam(g_classifier_mmd.parameters(), lr=1e-3)\n",
    "train_losses = []\n",
    "epoch = 0\n",
    "num_of_epochs = 30"
   ]
  },
  {
   "cell_type": "code",
   "execution_count": null,
   "metadata": {},
   "outputs": [],
   "source": [
    "for epoch in range(num_of_epochs):\n",
    "    train_mmd(epoch, g_classifier_mmd, train_data_x_3, train_data_y_3, g_optimizer_mmd, alpha = 0.1)"
   ]
  },
  {
   "cell_type": "code",
   "execution_count": null,
   "metadata": {},
   "outputs": [],
   "source": [
    "# print accuracy and reweighted accuracy \n",
    "accuracy, accuracy_males, accuracy_females, r, dp, no_males_avg, no_females_avg = test(g_classifier_mmd, test_data_x_3, test_data_y_3, test_males_x_3, test_males_y_3, test_females_x_3, test_females_y_3 )\n",
    "print('accuracy = {0}, no_females_avg = {1}, no_males_avg = {2}'.format(accuracy,no_females_avg , no_males_avg))\n",
    "print('reweighted accuracy', r)\n",
    "print('demographic parity (DP)', dp)\n",
    "print('accuracy_males = {0}, accuracy_females = {1}'.format(accuracy_males,accuracy_females))"
   ]
  },
  {
   "cell_type": "markdown",
   "metadata": {},
   "source": [
    "### Question 2.2.b: predicting gender using MMD requalrized model with representation features "
   ]
  },
  {
   "cell_type": "code",
   "execution_count": null,
   "metadata": {},
   "outputs": [],
   "source": [
    "# get representations of the training and test data using the mmd-based trained g_classifier  \n",
    "with torch.no_grad():\n",
    "    g_classifier_mmd.eval()\n",
    "    fair_representation_train = g_classifier_mmd.h1(train_data_x_3)\n",
    "    fair_representation_train = g_classifier_mmd.h2(fair_representation_train)\n",
    "    fair_representation_test = g_classifier_mmd.h1(test_data_x_3)\n",
    "    fair_representation_test = g_classifier_mmd.h2(fair_representation_test)\n",
    "    fair_representation_test_males = g_classifier_mmd.h1(test_males_x_3)\n",
    "    fair_representation_test_males = g_classifier_mmd.h2(fair_representation_test_males)\n",
    "    fair_representation_test_females = g_classifier_mmd.h1(test_females_x_3)\n",
    "    fair_representation_test_females = g_classifier_mmd.h2(fair_representation_test_females)"
   ]
  },
  {
   "cell_type": "code",
   "execution_count": null,
   "metadata": {},
   "outputs": [],
   "source": [
    "# set the training and model parameters \n",
    "batch_size = 4048\n",
    "h_classifier_mmd = model(n_hidden//2 ,n_hidden)\n",
    "h_optimizer_mmd = torch.optim.Adam(h_classifier_mmd.parameters(), lr=1e-2)\n",
    "train_losses = []\n",
    "epoch = 0\n",
    "num_of_epochs = 100"
   ]
  },
  {
   "cell_type": "code",
   "execution_count": null,
   "metadata": {},
   "outputs": [],
   "source": [
    "for epoch in range(num_of_epochs):\n",
    "    train(epoch, h_classifier_mmd, fair_representation_train, train_data_y_3, h_optimizer_mmd)"
   ]
  },
  {
   "cell_type": "code",
   "execution_count": null,
   "metadata": {},
   "outputs": [],
   "source": [
    "accuracy, accuracy_males, accuracy_females, r, dp, no_males_avg, no_females_avg  = test(h_classifier_mmd, fair_representation_test, test_data_y_3, fair_representation_test_males, test_males_y_3, fair_representation_test_females, test_females_y_3 )\n",
    "print('accuracy = {0}, no_females_avg = {1}, no_males_avg = {2}'.format(accuracy,no_females_avg , no_males_avg))\n",
    "print('reweighted accuracy', r)\n",
    "print('demographic parity (DP)', dp)\n",
    "print('accuracy_males = {0}, accuracy_females = {1}'.format(accuracy_males,accuracy_females))"
   ]
  },
  {
   "cell_type": "markdown",
   "metadata": {},
   "source": [
    "### Question 2.3: alpha Hyperparameter tuning"
   ]
  },
  {
   "cell_type": "code",
   "execution_count": 16,
   "metadata": {},
   "outputs": [
    {
     "name": "stdout",
     "output_type": "stream",
     "text": [
      "[EPOCH]: 0, [LOSS]: 0.363493,  [BCE loss]: 0.363409 ,[MMD loss]: 0.084323\n",
      "[EPOCH]: 5, [LOSS]: 0.303814,  [BCE loss]: 0.303754 ,[MMD loss]: 0.059969\n",
      "[EPOCH]: 10, [LOSS]: 0.318856,  [BCE loss]: 0.318779 ,[MMD loss]: 0.077605\n",
      "[EPOCH]: 15, [LOSS]: 0.297849,  [BCE loss]: 0.297768 ,[MMD loss]: 0.080392\n",
      "metrics:  0.8363122658313371 0.7946593001841621 0.9197565024903155 0.8572079013372388 0.10397176521426292 0.15211786372007366 0.04814609850581074\n",
      "[EPOCH]: 0, [LOSS]: 0.349503,  [BCE loss]: 0.349183 ,[MMD loss]: 0.064032\n",
      "[EPOCH]: 5, [LOSS]: 0.300684,  [BCE loss]: 0.300297 ,[MMD loss]: 0.077513\n",
      "[EPOCH]: 10, [LOSS]: 0.292942,  [BCE loss]: 0.292543 ,[MMD loss]: 0.079880\n",
      "[EPOCH]: 15, [LOSS]: 0.319027,  [BCE loss]: 0.318618 ,[MMD loss]: 0.081730\n",
      "metrics:  0.8248264848596524 0.7788213627992634 0.9169894853348091 0.8479054240670363 0.07488241451038063 0.11804788213627992 0.04316546762589928\n",
      "[EPOCH]: 0, [LOSS]: 0.359902,  [BCE loss]: 0.359208 ,[MMD loss]: 0.069423\n",
      "[EPOCH]: 5, [LOSS]: 0.322534,  [BCE loss]: 0.321715 ,[MMD loss]: 0.081872\n",
      "[EPOCH]: 10, [LOSS]: 0.302025,  [BCE loss]: 0.301257 ,[MMD loss]: 0.076818\n",
      "[EPOCH]: 15, [LOSS]: 0.297302,  [BCE loss]: 0.296583 ,[MMD loss]: 0.071968\n",
      "metrics:  0.8401818070143111 0.7995395948434623 0.9216011805939863 0.8605703877187243 0.10039161191234008 0.14189686924493555 0.04150525733259546\n",
      "[EPOCH]: 0, [LOSS]: 0.350973,  [BCE loss]: 0.349001 ,[MMD loss]: 0.039456\n",
      "[EPOCH]: 5, [LOSS]: 0.304012,  [BCE loss]: 0.303472 ,[MMD loss]: 0.010810\n",
      "[EPOCH]: 10, [LOSS]: 0.282786,  [BCE loss]: 0.282598 ,[MMD loss]: 0.003755\n",
      "[EPOCH]: 15, [LOSS]: 0.293400,  [BCE loss]: 0.293323 ,[MMD loss]: 0.001527\n",
      "metrics:  0.7646336220133898 0.7013812154696133 0.8913484596937834 0.7963648375816983 0.0010125855966310673 0.0011970534069981583 0.00018446781036709093\n",
      "[EPOCH]: 0, [LOSS]: 0.353740,  [BCE loss]: 0.349469 ,[MMD loss]: 0.042711\n",
      "[EPOCH]: 5, [LOSS]: 0.354678,  [BCE loss]: 0.351501 ,[MMD loss]: 0.031765\n",
      "[EPOCH]: 10, [LOSS]: 0.284838,  [BCE loss]: 0.284136 ,[MMD loss]: 0.007027\n",
      "[EPOCH]: 15, [LOSS]: 0.286611,  [BCE loss]: 0.286322 ,[MMD loss]: 0.002890\n",
      "metrics:  0.7879122903998526 0.7441988950276243 0.8754842280022136 0.8098415615149189 0.02839622055012174 0.11823204419889503 0.0898358236487733\n",
      "[EPOCH]: 0, [LOSS]: 0.375935,  [BCE loss]: 0.373773 ,[MMD loss]: 0.004323\n",
      "[EPOCH]: 5, [LOSS]: 0.328298,  [BCE loss]: 0.327920 ,[MMD loss]: 0.000756\n",
      "[EPOCH]: 10, [LOSS]: 0.292765,  [BCE loss]: 0.292353 ,[MMD loss]: 0.000823\n",
      "[EPOCH]: 15, [LOSS]: 0.306675,  [BCE loss]: 0.306392 ,[MMD loss]: 0.000566\n",
      "metrics:  0.7861924943185308 0.7278084714548803 0.9031543995572773 0.8154814355060788 0.015817452285515406 0.0281767955801105 0.012359343294595093\n",
      "[EPOCH]: 0, [LOSS]: 0.339078,  [BCE loss]: 0.337860 ,[MMD loss]: 0.001218\n",
      "[EPOCH]: 5, [LOSS]: 0.303107,  [BCE loss]: 0.302787 ,[MMD loss]: 0.000320\n",
      "[EPOCH]: 10, [LOSS]: 0.297023,  [BCE loss]: 0.296670 ,[MMD loss]: 0.000353\n",
      "[EPOCH]: 15, [LOSS]: 0.281385,  [BCE loss]: 0.281219 ,[MMD loss]: 0.000165\n",
      "metrics:  0.7857011240095817 0.7273480662983426 0.902600996126176 0.8149745312122593 0.015725677001959842 0.027900552486187846 0.012174875484228001\n",
      "[EPOCH]: 0, [LOSS]: 0.455585,  [BCE loss]: 0.453796 ,[MMD loss]: 0.000179\n",
      "[EPOCH]: 5, [LOSS]: 0.311009,  [BCE loss]: 0.310693 ,[MMD loss]: 0.000032\n",
      "[EPOCH]: 10, [LOSS]: 0.293366,  [BCE loss]: 0.293321 ,[MMD loss]: 0.000005\n",
      "[EPOCH]: 15, [LOSS]: 0.341166,  [BCE loss]: 0.340521 ,[MMD loss]: 0.000064\n",
      "metrics:  0.23659480375898287 0.3 0.10957387935805202 0.204786939679026 0.0005537091788533344 0.9998158379373849 0.9992621287585316\n"
     ]
    }
   ],
   "source": [
    "batch_size = 512\n",
    "input_size = 112\n",
    "n_hidden = 100\n",
    "train_losses = []\n",
    "lr = 1e-2\n",
    "accuracy_list = []\n",
    "r_list = []\n",
    "dp_list = []\n",
    "accuracy_m = []\n",
    "accuracy_f = []\n",
    "alphas = [0.001,0.005, 0.01, 0.05, 0.1, 0.5, 1, 10]\n",
    "num_of_epochs = 20 \n",
    "for alpha in alphas:\n",
    "    mmd_classifier = model(input_size,n_hidden)\n",
    "    mmd_optimizer = torch.optim.Adam(mmd_classifier.parameters(), lr=lr)\n",
    "    for epoch in range(num_of_epochs):\n",
    "        train_mmd(epoch, mmd_classifier, train_data_x_3, train_data_y_3, mmd_optimizer, alpha = alpha)\n",
    "    accuracy, accuracy_males, accuracy_females, r, dp, no_males_avg, no_females_avg = test(mmd_classifier, test_data_x_3, test_data_y_3, test_males_x_3, test_males_y_3, test_females_x_3, test_females_y_3)\n",
    "    print('metrics: ' , accuracy, accuracy_males, accuracy_females, r, dp, no_males_avg, no_females_avg)\n",
    "    accuracy_list.append(accuracy)\n",
    "    r_list.append(r)\n",
    "    dp_list.append(dp)\n",
    "    accuracy_m.append(accuracy_males)\n",
    "    accuracy_f.append(accuracy_females)"
   ]
  },
  {
   "cell_type": "code",
   "execution_count": 17,
   "metadata": {},
   "outputs": [
    {
     "data": {
      "text/plain": [
       "[0.8363122658313371,\n",
       " 0.8248264848596524,\n",
       " 0.8401818070143111,\n",
       " 0.7646336220133898,\n",
       " 0.7879122903998526,\n",
       " 0.7861924943185308,\n",
       " 0.7857011240095817,\n",
       " 0.23659480375898287]"
      ]
     },
     "execution_count": 17,
     "metadata": {},
     "output_type": "execute_result"
    }
   ],
   "source": [
    "accuracy_list"
   ]
  },
  {
   "cell_type": "code",
   "execution_count": 27,
   "metadata": {},
   "outputs": [
    {
     "data": {
      "text/plain": [
       "[0.10397176521426292,\n",
       " 0.07488241451038063,\n",
       " 0.10039161191234008,\n",
       " 0.0010125855966310673,\n",
       " 0.02839622055012174,\n",
       " 0.015817452285515406,\n",
       " 0.015725677001959842,\n",
       " 0.0005537091788533344]"
      ]
     },
     "execution_count": 27,
     "metadata": {},
     "output_type": "execute_result"
    }
   ],
   "source": [
    "dp_list\n",
    "0.103\n",
    "0.074\n",
    "0.100\n",
    "0.001\n",
    "0.02\n",
    "0.015 \n",
    "0.015\n",
    "0.001\n",
    "    "
   ]
  },
  {
   "cell_type": "code",
   "execution_count": 19,
   "metadata": {},
   "outputs": [
    {
     "data": {
      "text/plain": [
       "0"
      ]
     },
     "execution_count": 19,
     "metadata": {},
     "output_type": "execute_result"
    }
   ],
   "source": [
    "np.argmax(np.array(dp_list))"
   ]
  },
  {
   "cell_type": "code",
   "execution_count": 22,
   "metadata": {},
   "outputs": [
    {
     "data": {
      "image/png": "[encoded data removed]",
      "text/plain": [
       "<Figure size 432x288 with 1 Axes>"
      ]
     },
     "metadata": {
      "needs_background": "light"
     },
     "output_type": "display_data"
    }
   ],
   "source": [
    "alphas = [0.001,0.005, 0.01, 0.05, 0.1, 0.5, 1, 10]\n",
    "y_pos = np.arange(len(alphas))\n",
    "\n",
    "plt.bar(y_pos, accuracy_list, align='center', alpha=0.5)\n",
    "plt.xticks(y_pos, alphas)\n",
    "plt.ylabel('accuracy')\n",
    "plt.xlabel('alpha')\n",
    "plt.title('accuracy vs alpha')\n",
    "plt.savefig('accuracy.png')\n",
    "plt.show()"
   ]
  },
  {
   "cell_type": "code",
   "execution_count": 23,
   "metadata": {},
   "outputs": [
    {
     "data": {
      "image/png": "[encoded data removed]",
      "text/plain": [
       "<Figure size 432x288 with 1 Axes>"
      ]
     },
     "metadata": {
      "needs_background": "light"
     },
     "output_type": "display_data"
    }
   ],
   "source": [
    "plt.bar(y_pos, r_list, align='center', alpha=0.5)\n",
    "plt.xticks(y_pos, alphas)\n",
    "plt.ylabel('reweighted accuracy')\n",
    "plt.xlabel('alpha')\n",
    "plt.title('reweighted accuracy vs alpha')\n",
    "plt.savefig('r.png')\n",
    "plt.show()"
   ]
  },
  {
   "cell_type": "code",
   "execution_count": 24,
   "metadata": {},
   "outputs": [
    {
     "data": {
      "image/png": "[encoded data removed]",
      "text/plain": [
       "<Figure size 432x288 with 1 Axes>"
      ]
     },
     "metadata": {
      "needs_background": "light"
     },
     "output_type": "display_data"
    }
   ],
   "source": [
    "plt.bar(y_pos, dp_list, align='center', alpha=0.5)\n",
    "plt.xticks(y_pos, alphas)\n",
    "plt.ylabel('Demographic parity (DP) accuracy')\n",
    "plt.xlabel('alpha')\n",
    "plt.title('Demographic parity (DP) vs alpha')\n",
    "plt.savefig('dp.png')\n",
    "plt.show()"
   ]
  },
  {
   "cell_type": "code",
   "execution_count": 25,
   "metadata": {},
   "outputs": [
    {
     "data": {
      "image/png": "[encoded data removed]",
      "text/plain": [
       "<Figure size 432x288 with 1 Axes>"
      ]
     },
     "metadata": {
      "needs_background": "light"
     },
     "output_type": "display_data"
    }
   ],
   "source": [
    "plt.bar(y_pos, accuracy_m, align='center', alpha=0.5)\n",
    "plt.xticks(y_pos, alphas)\n",
    "plt.ylabel('accuracy for male records')\n",
    "plt.xlabel('alpha')\n",
    "plt.title('accuracy_males vs alpha')\n",
    "plt.savefig('am.png')\n",
    "plt.show()"
   ]
  },
  {
   "cell_type": "code",
   "execution_count": 26,
   "metadata": {},
   "outputs": [
    {
     "data": {
      "image/png": "[encoded data removed]",
      "text/plain": [
       "<Figure size 432x288 with 1 Axes>"
      ]
     },
     "metadata": {
      "needs_background": "light"
     },
     "output_type": "display_data"
    }
   ],
   "source": [
    "plt.bar(y_pos, accuracy_f, align='center', alpha=0.5)\n",
    "plt.xticks(y_pos, alphas)\n",
    "plt.ylabel('accuracy for female records')\n",
    "plt.xlabel('alpha')\n",
    "plt.title('accuracy_females vs alpha')\n",
    "plt.savefig('af.png')\n",
    "plt.show()"
   ]
  }
 ],
 "metadata": {
  "kernelspec": {
   "display_name": "Python 3",
   "language": "python",
   "name": "python3"
  },
  "language_info": {
   "codemirror_mode": {
    "name": "ipython",
    "version": 3
   },
   "file_extension": ".py",
   "mimetype": "text/x-python",
   "name": "python",
   "nbconvert_exporter": "python",
   "pygments_lexer": "ipython3",
   "version": "3.7.3"
  }
 },
 "nbformat": 4,
 "nbformat_minor": 2
}
